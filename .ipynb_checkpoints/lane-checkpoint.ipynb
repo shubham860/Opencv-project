{
 "cells": [
  {
   "cell_type": "code",
   "execution_count": 13,
   "metadata": {},
   "outputs": [],
   "source": [
    "import cv2\n",
    "import numpy as np\n",
    "import matplotlib.pyplot as plt"
   ]
  },
  {
   "cell_type": "code",
   "execution_count": 3,
   "metadata": {},
   "outputs": [],
   "source": [
    "image  = cv2.imread('test_image.jpg')"
   ]
  },
  {
   "cell_type": "markdown",
   "metadata": {},
   "source": [
    "Numpy array of image pixels"
   ]
  },
  {
   "cell_type": "code",
   "execution_count": 4,
   "metadata": {
    "scrolled": true
   },
   "outputs": [
    {
     "data": {
      "text/plain": [
       "array([[[116,  91,  75],\n",
       "        [194, 174, 134],\n",
       "        [194, 174, 134],\n",
       "        ...,\n",
       "        [248, 238, 215],\n",
       "        [248, 238, 215],\n",
       "        [248, 238, 215]],\n",
       "\n",
       "       [[157, 133, 106],\n",
       "        [194, 174, 134],\n",
       "        [194, 174, 134],\n",
       "        ...,\n",
       "        [247, 238, 215],\n",
       "        [247, 238, 215],\n",
       "        [247, 238, 215]],\n",
       "\n",
       "       [[185, 163, 127],\n",
       "        [194, 174, 134],\n",
       "        [194, 174, 134],\n",
       "        ...,\n",
       "        [247, 238, 215],\n",
       "        [247, 238, 215],\n",
       "        [247, 238, 215]],\n",
       "\n",
       "       ...,\n",
       "\n",
       "       [[ 74,  80,  85],\n",
       "        [ 74,  80,  85],\n",
       "        [ 74,  80,  85],\n",
       "        ...,\n",
       "        [ 73,  74,  82],\n",
       "        [ 73,  74,  82],\n",
       "        [ 73,  74,  82]],\n",
       "\n",
       "       [[ 74,  80,  85],\n",
       "        [ 74,  80,  85],\n",
       "        [ 74,  80,  85],\n",
       "        ...,\n",
       "        [ 72,  73,  81],\n",
       "        [ 72,  73,  81],\n",
       "        [ 72,  73,  81]],\n",
       "\n",
       "       [[ 74,  80,  85],\n",
       "        [ 74,  80,  85],\n",
       "        [ 74,  80,  85],\n",
       "        ...,\n",
       "        [ 72,  73,  81],\n",
       "        [ 72,  73,  81],\n",
       "        [ 72,  73,  81]]], dtype=uint8)"
      ]
     },
     "execution_count": 4,
     "metadata": {},
     "output_type": "execute_result"
    }
   ],
   "source": [
    "image"
   ]
  },
  {
   "cell_type": "code",
   "execution_count": 5,
   "metadata": {},
   "outputs": [],
   "source": [
    "cv2.imshow('result',image)"
   ]
  },
  {
   "cell_type": "code",
   "execution_count": null,
   "metadata": {},
   "outputs": [],
   "source": [
    "cv2.waitKey(0)  "
   ]
  },
  {
   "cell_type": "markdown",
   "metadata": {},
   "source": [
    " Canny edge detection: goal is to identify the edges in an image and it                                identified with the help change in intensity\n",
    " \n",
    " Gradient  : Measures the change in brightness over a adjacent pixel.\n",
    " strong gradient - represent 0 - 255 strong change\n",
    " small gradient - represents shallow change 0 - 15\n",
    " \n",
    " it is done in following steps:\n",
    " \n",
    " step 1 : convert a image into grayscale(because color image has 3 channels(rgb) whereas grayscale image has 1 channel"
   ]
  },
  {
   "cell_type": "code",
   "execution_count": 6,
   "metadata": {},
   "outputs": [],
   "source": [
    "lane_image = np.copy(image)  "
   ]
  },
  {
   "cell_type": "code",
   "execution_count": 7,
   "metadata": {},
   "outputs": [],
   "source": [
    "grayscale_image = cv2.cvtColor(lane_image, cv2.COLOR_RGB2GRAY)"
   ]
  },
  {
   "cell_type": "code",
   "execution_count": 8,
   "metadata": {},
   "outputs": [],
   "source": [
    "cv2.imshow('result',grayscale_image)"
   ]
  },
  {
   "cell_type": "markdown",
   "metadata": {},
   "source": [
    "Step-2 : reduce noise(smoothing)\n",
    "        it can create false edges and it effects edge detection and it can be done by gaussian filter and it is done by taking average of surroundings pixels and with the help of kernal convolution it can convert into blurred image and we are using (5,5) kernel"
   ]
  },
  {
   "cell_type": "code",
   "execution_count": 9,
   "metadata": {},
   "outputs": [],
   "source": [
    "blur_image = cv2.GaussianBlur(grayscale_image, (5,5), 0)"
   ]
  },
  {
   "cell_type": "code",
   "execution_count": 10,
   "metadata": {},
   "outputs": [],
   "source": [
    "cv2.imshow('result2',blur_image)"
   ]
  },
  {
   "cell_type": "markdown",
   "metadata": {},
   "source": [
    "if we use canny method it automatically do the smoothing of image"
   ]
  },
  {
   "cell_type": "code",
   "execution_count": 11,
   "metadata": {},
   "outputs": [],
   "source": [
    "canny_image = cv2.Canny(blur_image, 50, 150)"
   ]
  },
  {
   "cell_type": "code",
   "execution_count": 12,
   "metadata": {},
   "outputs": [],
   "source": [
    "cv2.imshow('result3',canny_image)"
   ]
  },
  {
   "cell_type": "markdown",
   "metadata": {},
   "source": [
    "#Apply hough transform method for lane detection and find region of interest\n"
   ]
  },
  {
   "cell_type": "code",
   "execution_count": 19,
   "metadata": {},
   "outputs": [
    {
     "data": {
      "text/plain": [
       "<matplotlib.image.AxesImage at 0x1b66ac6cb70>"
      ]
     },
     "execution_count": 19,
     "metadata": {},
     "output_type": "execute_result"
    },
    {
     "data": {
      "image/png": "[encoded data removed]",
      "text/plain": [
       "<Figure size 432x288 with 1 Axes>"
      ]
     },
     "metadata": {
      "needs_background": "light"
     },
     "output_type": "display_data"
    }
   ],
   "source": [
    "plt.imshow(canny_image)"
   ]
  },
  {
   "cell_type": "code",
   "execution_count": 20,
   "metadata": {},
   "outputs": [],
   "source": [
    "def region_of_interest(image):\n",
    "    height = image.shape[0]\n",
    "    traingle = np.array([[(200,height), (1100,height), (550,250)]])\n",
    "    mask = np.zeros_like(image)\n",
    "    cv2.fillPoly(mask, traingle, 255)\n",
    "    masked_image = cv2.bitwise_and(image, mask)\n",
    "    return masked_image"
   ]
  },
  {
   "cell_type": "code",
   "execution_count": 21,
   "metadata": {},
   "outputs": [],
   "source": [
    "cv2.imshow('result4',region_of_interest(canny_image))"
   ]
  },
  {
   "cell_type": "markdown",
   "metadata": {},
   "source": [
    "now we apply the masking in fuction region_of_intreston line 5 between mask image and canny image to get the region of interest and in mask image white traingle represens the 1111111 and black represents 0000 in binary soo we apply bitwise and operation b/w both image to get the region of interest\n"
   ]
  },
  {
   "cell_type": "code",
   "execution_count": 22,
   "metadata": {},
   "outputs": [],
   "source": [
    "cropped_image = region_of_interest(canny_image)\n",
    "cv2.imshow('Region of interest',cropped_image)"
   ]
  },
  {
   "cell_type": "code",
   "execution_count": null,
   "metadata": {},
   "outputs": [],
   "source": []
  }
 ],
 "metadata": {
  "kernelspec": {
   "display_name": "Python 3",
   "language": "python",
   "name": "python3"
  },
  "language_info": {
   "codemirror_mode": {
    "name": "ipython",
    "version": 3
   },
   "file_extension": ".py",
   "mimetype": "text/x-python",
   "name": "python",
   "nbconvert_exporter": "python",
   "pygments_lexer": "ipython3",
   "version": "3.7.3"
  }
 },
 "nbformat": 4,
 "nbformat_minor": 2
}
